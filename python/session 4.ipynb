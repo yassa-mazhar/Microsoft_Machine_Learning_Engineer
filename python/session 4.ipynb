{
 "cells": [
  {
   "cell_type": "code",
   "execution_count": 54,
   "id": "c0cee1a7-08a7-4f52-8d08-6615ff924335",
   "metadata": {},
   "outputs": [],
   "source": [
    "class enemy:\n",
    "    def __init__(self,helk,spead,hit):\n",
    "        self. health=helk\n",
    "        self. speed =spead\n",
    "        self. hit   =hit\n",
    "    def attack (self) :\n",
    "        print (\"attack\")\n",
    "    def defend (self) :\n",
    "        print (\"def\")"
   ]
  },
  {
   "cell_type": "code",
   "execution_count": 56,
   "id": "b460fa7f-feab-4a42-927a-6607c433829a",
   "metadata": {},
   "outputs": [],
   "source": [
    "nadeen_medhat =enemy(100,200,300)\n"
   ]
  },
  {
   "cell_type": "code",
   "execution_count": 58,
   "id": "5bbb082a-dfc6-4ef6-9cc2-fe68270ebda9",
   "metadata": {},
   "outputs": [
    {
     "data": {
      "text/plain": [
       "100"
      ]
     },
     "execution_count": 58,
     "metadata": {},
     "output_type": "execute_result"
    }
   ],
   "source": [
    "nadeen_medhat.health\n"
   ]
  },
  {
   "cell_type": "code",
   "execution_count": 60,
   "id": "46d73efd-17f0-47f7-80fa-f41e5557dc0c",
   "metadata": {},
   "outputs": [
    {
     "ename": "AttributeError",
     "evalue": "'enemy' object has no attribute 'helk'",
     "output_type": "error",
     "traceback": [
      "\u001b[1;31m---------------------------------------------------------------------------\u001b[0m",
      "\u001b[1;31mAttributeError\u001b[0m                            Traceback (most recent call last)",
      "Cell \u001b[1;32mIn[60], line 1\u001b[0m\n\u001b[1;32m----> 1\u001b[0m nadeen_medhat\u001b[38;5;241m.\u001b[39mhelk\n",
      "\u001b[1;31mAttributeError\u001b[0m: 'enemy' object has no attribute 'helk'"
     ]
    }
   ],
   "source": [
    "nadeen_medhat.helk"
   ]
  },
  {
   "cell_type": "code",
   "execution_count": 64,
   "id": "1295cb16-dcbf-4518-8b44-f63e41f649c3",
   "metadata": {},
   "outputs": [
    {
     "data": {
      "text/plain": [
       "<bound method enemy.attack of <__main__.enemy object at 0x00000145840A2BD0>>"
      ]
     },
     "execution_count": 64,
     "metadata": {},
     "output_type": "execute_result"
    }
   ],
   "source": [
    "nadeen_medhat.attack"
   ]
  },
  {
   "cell_type": "code",
   "execution_count": 1,
   "id": "ae3a5c27-6563-4196-a9e8-436f228eb12b",
   "metadata": {},
   "outputs": [],
   "source": [
    "class dog:\n",
    "        def __init__(self, name,breed):\n",
    "            self.name=name\n",
    "            self.breed=breed\n",
    "        def sound(self):\n",
    "            print(\"eee\")"
   ]
  },
  {
   "cell_type": "code",
   "execution_count": 5,
   "id": "7964352b-8dc2-417e-ab10-65e5d42636fe",
   "metadata": {},
   "outputs": [],
   "source": [
    "ddd=dog(fd,df)"
   ]
  },
  {
   "cell_type": "code",
   "execution_count": 9,
   "id": "46a8276e-75bf-4df7-864b-78ecd8a5c140",
   "metadata": {},
   "outputs": [
    {
     "name": "stdout",
     "output_type": "stream",
     "text": [
      "eee\n"
     ]
    }
   ],
   "source": [
    "ddd.sound()"
   ]
  },
  {
   "cell_type": "code",
   "execution_count": 13,
   "id": "017fb34a-4d51-4d04-a4b4-906d82aed777",
   "metadata": {},
   "outputs": [],
   "source": [
    "class std:\n",
    "    def __init__(self,age,grade):\n",
    "        self.age= age\n",
    "        self.grade= grade\n",
    "    def updata_grade(self,update):\n",
    "        self.grade=update"
   ]
  },
  {
   "cell_type": "code",
   "execution_count": 15,
   "id": "b2a4f064-774f-464c-9443-834bc3ae0ef4",
   "metadata": {},
   "outputs": [],
   "source": [
    "yassa=std(21,3)"
   ]
  },
  {
   "cell_type": "code",
   "execution_count": 17,
   "id": "5014e100-ad38-410e-b502-5bd65327b647",
   "metadata": {},
   "outputs": [
    {
     "data": {
      "text/plain": [
       "3"
      ]
     },
     "execution_count": 17,
     "metadata": {},
     "output_type": "execute_result"
    }
   ],
   "source": [
    "yassa.grade"
   ]
  },
  {
   "cell_type": "code",
   "execution_count": 19,
   "id": "f227ee4b-b84b-4fb1-863a-623df45b52bf",
   "metadata": {},
   "outputs": [],
   "source": [
    "yassa.updata_grade(2)"
   ]
  },
  {
   "cell_type": "code",
   "execution_count": 21,
   "id": "0538f3b9-f7e2-4392-ac92-b4fb73c4e946",
   "metadata": {},
   "outputs": [
    {
     "data": {
      "text/plain": [
       "2"
      ]
     },
     "execution_count": 21,
     "metadata": {},
     "output_type": "execute_result"
    }
   ],
   "source": [
    "yassa.grade"
   ]
  },
  {
   "cell_type": "code",
   "execution_count": 52,
   "id": "5f291878-289f-485d-89e4-96eb4f83bdb0",
   "metadata": {},
   "outputs": [],
   "source": [
    "class Product:\n",
    "    def __init__(self, product_name, prize, quantity):\n",
    "        self.name = product_name\n",
    "        self.prize = prize\n",
    "        self.quantity = quantity\n",
    "\n",
    "    def restok(self, qu):\n",
    "        if self.quantity < qu:\n",
    "            print(\"Error\")\n",
    "        else:\n",
    "            self.quantity -= qu\n",
    "            print(f\"{qu} sold. Remained: {self.quantity}\")\n",
    "    def show(self):\n",
    "        print(f\" in stok {self.quantity}\")"
   ]
  },
  {
   "cell_type": "code",
   "execution_count": 54,
   "id": "91aba75d-48d1-448f-b63e-e9c77c6e43db",
   "metadata": {},
   "outputs": [],
   "source": [
    "hp=Product(\"gg\",2000,5)\n",
    "dell=Product(\"gg\",2000,5)"
   ]
  },
  {
   "cell_type": "code",
   "execution_count": 56,
   "id": "6fa0d04a-9ab6-47d6-b9ed-92249bd45841",
   "metadata": {},
   "outputs": [
    {
     "name": "stdout",
     "output_type": "stream",
     "text": [
      "Error\n"
     ]
    }
   ],
   "source": [
    "hp.restok(10)"
   ]
  },
  {
   "cell_type": "code",
   "execution_count": 58,
   "id": "bd01dcf0-cace-4ac2-a204-300da1ba8060",
   "metadata": {},
   "outputs": [
    {
     "name": "stdout",
     "output_type": "stream",
     "text": [
      "2 sold. Remained: 3\n"
     ]
    }
   ],
   "source": [
    "dell.restok(2)"
   ]
  },
  {
   "cell_type": "code",
   "execution_count": 60,
   "id": "4b0517fe-cdc1-463e-b870-eb9d4a7b641d",
   "metadata": {},
   "outputs": [
    {
     "name": "stdout",
     "output_type": "stream",
     "text": [
      " in stok 3\n"
     ]
    }
   ],
   "source": [
    "dell.show()"
   ]
  },
  {
   "cell_type": "code",
   "execution_count": 74,
   "id": "1e6e6162-3275-42c9-9c19-a380946ce3c8",
   "metadata": {},
   "outputs": [],
   "source": [
    "class Shape:\n",
    "    pass\n",
    "\n",
    "class Rectangle(Shape):\n",
    "    def area(self, x, y):\n",
    "        return x * y\n",
    "\n",
    "class cir(Shape):\n",
    "    def area(self, x):\n",
    "        return x * x *3.14\n"
   ]
  },
  {
   "cell_type": "code",
   "execution_count": 76,
   "id": "af836c29-1b8f-4602-9530-b52fa428ce5c",
   "metadata": {},
   "outputs": [
    {
     "ename": "TypeError",
     "evalue": "Rectangle() takes no arguments",
     "output_type": "error",
     "traceback": [
      "\u001b[1;31m---------------------------------------------------------------------------\u001b[0m",
      "\u001b[1;31mTypeError\u001b[0m                                 Traceback (most recent call last)",
      "Cell \u001b[1;32mIn[76], line 1\u001b[0m\n\u001b[1;32m----> 1\u001b[0m rec\u001b[38;5;241m=\u001b[39mRectangle(\u001b[38;5;241m5\u001b[39m,\u001b[38;5;241m3\u001b[39m)\n",
      "\u001b[1;31mTypeError\u001b[0m: Rectangle() takes no arguments"
     ]
    }
   ],
   "source": [
    "rec=Rectangle(5,3)"
   ]
  },
  {
   "cell_type": "code",
   "execution_count": null,
   "id": "9f67bad7-6224-47da-8831-3e6f3d4aa80f",
   "metadata": {},
   "outputs": [],
   "source": []
  }
 ],
 "metadata": {
  "kernelspec": {
   "display_name": "Python 3 (ipykernel)",
   "language": "python",
   "name": "python3"
  },
  "language_info": {
   "codemirror_mode": {
    "name": "ipython",
    "version": 3
   },
   "file_extension": ".py",
   "mimetype": "text/x-python",
   "name": "python",
   "nbconvert_exporter": "python",
   "pygments_lexer": "ipython3",
   "version": "3.12.7"
  }
 },
 "nbformat": 4,
 "nbformat_minor": 5
}
